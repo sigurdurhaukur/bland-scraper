{
 "cells": [
  {
   "cell_type": "code",
   "execution_count": 33,
   "metadata": {},
   "outputs": [
    {
     "name": "stderr",
     "output_type": "stream",
     "text": [
      "100%|██████████| 49/49 [00:18<00:00,  2.68it/s]"
     ]
    },
    {
     "name": "stdout",
     "output_type": "stream",
     "text": [
      "1225 threads found\n"
     ]
    },
    {
     "name": "stderr",
     "output_type": "stream",
     "text": [
      "\n"
     ]
    },
    {
     "data": {
      "text/plain": [
       "['https://www.hugi.is/tilveran/korkar/803807/hvernig-getur-madur-fengid-sprautur/',\n",
       " 'https://www.hugi.is/skoli/korkar/803794/glosur-laxdaela/',\n",
       " 'https://www.hugi.is/smasogur/korkar/803780/brot-ur-sogu/',\n",
       " 'https://www.hugi.is/djammid/korkar/803744/vardandi-nytt-nafn-b5/',\n",
       " 'https://www.hugi.is/popp/korkar/803702/smellir-a-islensku-ensku-og-donsku/']"
      ]
     },
     "execution_count": 33,
     "metadata": {},
     "output_type": "execute_result"
    }
   ],
   "source": [
    "import requests\n",
    "from bs4 import BeautifulSoup\n",
    "import re\n",
    "from tqdm import tqdm\n",
    "\n",
    "homepage = \"https://www.hugi.is/forsida/korkar/?sida=\"\n",
    "domain = \"https://www.hugi.is\"\n",
    "\n",
    "thread_links = []\n",
    "\n",
    "\n",
    "# max pages for hugi.is/korkar is 17837\n",
    "\n",
    "for page in tqdm(range(1, 50)):\n",
    "    response = requests.get(homepage + str(page))\n",
    "    soup = BeautifulSoup(response.text, \"html.parser\")\n",
    "\n",
    "    # Find all links to threads\n",
    "    list_of_threads = soup.find(\"table\")\n",
    "    links = list_of_threads.find_all(\"a\", href=re.compile(\"/korkar/\"))\n",
    "    links = [domain + link[\"href\"] for link in links]\n",
    "\n",
    "    thread_links.extend(links)\n",
    "\n",
    "print(len(thread_links), \"threads found\")\n",
    "thread_links[:5]"
   ]
  },
  {
   "cell_type": "code",
   "execution_count": 34,
   "metadata": {},
   "outputs": [],
   "source": [
    "from bs4 import BeautifulSoup, NavigableString, Tag\n",
    "import json\n",
    "\n",
    "class Thread:\n",
    "    def __init__(self, url):\n",
    "        self.url = url\n",
    "        self.data = self.get_thread_data(url)\n",
    "\n",
    "    def __repr__(self):\n",
    "        return json.dumps(self.data, ensure_ascii=False)\n",
    "\n",
    "    def clean_text(self, html=\"\"):\n",
    "        soup = BeautifulSoup(html, 'html.parser')\n",
    "        text = ''\n",
    "        for child in soup.find_all('div')[0]:\n",
    "            if isinstance(child, NavigableString):\n",
    "                text += str(child).strip()\n",
    "            elif isinstance(child, Tag):\n",
    "                if child.name != 'br':\n",
    "                    text += child.text.strip()\n",
    "                else:\n",
    "                    text += '\\n'\n",
    "\n",
    "        # result = text.strip().split('\\n')\n",
    "        result = text.strip()\n",
    "        return result\n",
    "\n",
    "    def get_thread_data(self, url):\n",
    "        response = requests.get(url)\n",
    "        soup = BeautifulSoup(response.text, \"html.parser\")\n",
    "        title = soup.find(class_=\"articlecontainer\").find(\"h1\").text\n",
    "        question = self.clean_text(str(soup.find(\"div\", class_=\"articlebody\")))\n",
    "        responses = soup.find_all(\"div\", class_=\"replycontent\")\n",
    "        # exlude the first response, which is the same as the question\n",
    "        responses = [self.clean_text(str(response)) for response in responses]\n",
    "        return {\"title\": title.strip(), \"question\": question, \"responses\": responses, \"url\": url}"
   ]
  },
  {
   "cell_type": "code",
   "execution_count": 35,
   "metadata": {},
   "outputs": [
    {
     "data": {
      "application/vnd.jupyter.widget-view+json": {
       "model_id": "deba97a8436b41babc2abcebe330ae6e",
       "version_major": 2,
       "version_minor": 0
      },
      "text/plain": [
       "  0%|          | 0/1225 [00:00<?, ?it/s]"
      ]
     },
     "metadata": {},
     "output_type": "display_data"
    }
   ],
   "source": [
    "import tqdm.auto as tqdm\n",
    "import pandas as pd\n",
    "import json\n",
    "\n",
    "with open(\"hugi/data.json\", \"w\") as f:\n",
    "    f.write(\"[\")\n",
    "\n",
    "    for url in tqdm.tqdm(thread_links):\n",
    "        try:\n",
    "            data = Thread(url).data\n",
    "            if url != thread_links[0]: f.write(\",\")\n",
    "            f.write(json.dumps(data, ensure_ascii=False))\n",
    "\n",
    "        except Exception as e:\n",
    "            print(e)\n",
    "            print(\"could not scrape:\", url)\n",
    "        \n",
    "    f.write(\"]\")\n"
   ]
  },
  {
   "cell_type": "code",
   "execution_count": 38,
   "metadata": {},
   "outputs": [
    {
     "name": "stdout",
     "output_type": "stream",
     "text": [
      "(513, 2)\n"
     ]
    }
   ],
   "source": [
    "import json\n",
    "import pandas as pd\n",
    "\n",
    "with open(\"hugi/data.json\", \"r\") as f:\n",
    "    data = json.load(f)\n",
    "\n",
    "df = pd.DataFrame(data)\n",
    "df.drop(columns=[\"url\", \"title\"], inplace=True)\n",
    "df = df[df.question.apply(len) > 0]\n",
    "df = df[df.responses.apply(len) > 0]\n",
    "\n",
    "# amount of data\n",
    "print(df.shape)\n",
    "\n",
    "with open(\"hugi/cleaned_data.txt\", \"w\") as f:\n",
    "    for i, row in df.iterrows():\n",
    "        f.write(\"###QUESTION:\" + \"\\n\" + row.question + \"\\n\\n\")\n",
    "        f.write(\"###RESPONSE:\" + \"\\n\" + row.responses[0] + \"\\n\\n\")"
   ]
  }
 ],
 "metadata": {
  "kernelspec": {
   "display_name": "Python 3",
   "language": "python",
   "name": "python3"
  },
  "language_info": {
   "codemirror_mode": {
    "name": "ipython",
    "version": 3
   },
   "file_extension": ".py",
   "mimetype": "text/x-python",
   "name": "python",
   "nbconvert_exporter": "python",
   "pygments_lexer": "ipython3",
   "version": "3.9.1"
  }
 },
 "nbformat": 4,
 "nbformat_minor": 2
}
