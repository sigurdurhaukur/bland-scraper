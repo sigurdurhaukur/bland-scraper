{
 "cells": [
  {
   "cell_type": "code",
   "execution_count": 1,
   "metadata": {},
   "outputs": [
    {
     "name": "stderr",
     "output_type": "stream",
     "text": [
      "Failed to detect the name of this notebook, you can set it manually with the WANDB_NOTEBOOK_NAME environment variable to enable code saving.\n"
     ]
    },
    {
     "data": {
      "text/plain": []
     },
     "execution_count": 1,
     "metadata": {},
     "output_type": "execute_result"
    }
   ],
   "source": [
    "import wandb\n",
    "\n",
    "wandb.init(mode=\"disabled\")"
   ]
  },
  {
   "cell_type": "code",
   "execution_count": 2,
   "metadata": {},
   "outputs": [
    {
     "name": "stderr",
     "output_type": "stream",
     "text": [
      "/home/haukur/miniconda3/lib/python3.9/site-packages/scipy/__init__.py:146: UserWarning: A NumPy version >=1.17.3 and <1.25.0 is required for this version of SciPy (detected version 1.26.2\n",
      "  warnings.warn(f\"A NumPy version >={np_minversion} and <{np_maxversion}\"\n",
      "2024-03-16 18:45:49.847200: W tensorflow/compiler/tf2tensorrt/utils/py_utils.cc:38] TF-TRT Warning: Could not find TensorRT\n"
     ]
    },
    {
     "name": "stdout",
     "output_type": "stream",
     "text": [
      "[2024-03-16 18:45:50,596] [INFO] [real_accelerator.py:158:get_accelerator] Setting ds_accelerator to cuda (auto detect)\n"
     ]
    },
    {
     "name": "stderr",
     "output_type": "stream",
     "text": [
      "/home/haukur/miniconda3/lib/python3.9/site-packages/trl/trainer/utils.py:102: UserWarning: The pad_token_id and eos_token_id values of this tokenizer are identical. If you are planning for multi-turn training, it can result in the model continuously generating questions and answers without eos token. To avoid this, set the pad_token_id to a different value.\n",
      "  warnings.warn(\n",
      "You're using a GPT2TokenizerFast tokenizer. Please note that with a fast tokenizer, using the `__call__` method is faster than using a method to encode the text followed by a call to the `pad` method to get a padded encoding.\n"
     ]
    },
    {
     "data": {
      "text/html": [
       "\n",
       "    <div>\n",
       "      \n",
       "      <progress value='86' max='86' style='width:300px; height:20px; vertical-align: middle;'></progress>\n",
       "      [86/86 00:14, Epoch 0/1]\n",
       "    </div>\n",
       "    <table border=\"1\" class=\"dataframe\">\n",
       "  <thead>\n",
       " <tr style=\"text-align: left;\">\n",
       "      <th>Step</th>\n",
       "      <th>Training Loss</th>\n",
       "      <th>Validation Loss</th>\n",
       "    </tr>\n",
       "  </thead>\n",
       "  <tbody>\n",
       "  </tbody>\n",
       "</table><p>"
      ],
      "text/plain": [
       "<IPython.core.display.HTML object>"
      ]
     },
     "metadata": {},
     "output_type": "display_data"
    },
    {
     "name": "stderr",
     "output_type": "stream",
     "text": [
      "/home/haukur/miniconda3/lib/python3.9/site-packages/trl/trainer/utils.py:154: UserWarning: Could not find response key `### Answer:` in the following instance: ### Question:\n",
      "Finnst ljótt að segja það, en ég hef síðustu daga verið að íhuga að stytta fæðingarorlofið sem ég tek úr 12 mánuðum í 8 eða 9!! Ég er bara að verða geðveik á því að vera 24/7 með barni sem er alltaf pirrað. ALLTAF.  Mér finnst ég vera óhæf móðir að ráða ekki við barnið mitt og verða svona þreytt á þessu.\n",
      "\n",
      "Hún er rúmlega 4 mánaða og eins og ég segi, alltaf pirruð. Hún á alveg sín móment þar sem hún leikur sér og brosir og hlær við manni og allt er voða gaman, en þau móment endast ekki lengi. Meirihlutinn af deginum fara í tuð, pirring og væl og oft endar það í háværum hátíðni öskurgráti sem er varla hægt að hugga meðan hún er öll á iði, sparkar og slær. Mér hefði ekki getað dottið í hug að ungabarn gæti verið svona kröftugt, ég á í fullu fangi með að halda á henni þegar hún lætur svona og pabbi hennar líka. Mér finnst að það hljóti eitthvað að vera að angra hana fyrst hún er svona pirruð og fúl og vælir svona, en það virðist ekkert finnast að barninu :(\n",
      "\n",
      "Ég er búin að prófa 2 kveisulyf á hana sem ég fékk hjá lækni, en er líka búin að prófa minifom og hitt sem ég man ekki hvað heitir, en er farin að hallast að því að eitthvað annað en kveisa sé að angra hana því kveisulyfin virka ekki neitt. Það er búið að skoða eyrun og mæla þrýsting en það fannst ekkert þar og frænka mín tók hana fyrir mig til hómópata og í bowen og það virkaði ekki heldur. Er búin að spá í mjólkuróþoli og er því búin að taka allar mjólkurvörur úr mínu fæði í rúmar 3 vikur núna og stelpan fær sojamjólkur ábót þegar þess þarf, en so far er það ekkert að sýna neinn árángur, en ég veit það getur svosem tekið lengri tíma að virka. Mér finnst bara að það hljóti eitthvað að vera að angra hana og ég vorkenni henni svo að vera alltaf svona pirruð og ég er líka sjálf að verða gráhærð á þessu ástandi. Dagarnir fara allir í það að hugga hana og reyna að finna eitthvað sem hún getur dundað sér við lengur en í 2-3 mín í einu. Hún sefur mjög illa á daginn, mestalagi í 30 mín í This instance will be ignored in loss calculation. Note, if this happens often, consider increasing the `max_seq_length`.\n",
      "  warnings.warn(\n",
      "/home/haukur/miniconda3/lib/python3.9/site-packages/trl/trainer/utils.py:169: UserWarning: Could not find instruction key `### Question:` in the following instance: ### Question:\n",
      "Finnst ljótt að segja það, en ég hef síðustu daga verið að íhuga að stytta fæðingarorlofið sem ég tek úr 12 mánuðum í 8 eða 9!! Ég er bara að verða geðveik á því að vera 24/7 með barni sem er alltaf pirrað. ALLTAF.  Mér finnst ég vera óhæf móðir að ráða ekki við barnið mitt og verða svona þreytt á þessu.\n",
      "\n",
      "Hún er rúmlega 4 mánaða og eins og ég segi, alltaf pirruð. Hún á alveg sín móment þar sem hún leikur sér og brosir og hlær við manni og allt er voða gaman, en þau móment endast ekki lengi. Meirihlutinn af deginum fara í tuð, pirring og væl og oft endar það í háværum hátíðni öskurgráti sem er varla hægt að hugga meðan hún er öll á iði, sparkar og slær. Mér hefði ekki getað dottið í hug að ungabarn gæti verið svona kröftugt, ég á í fullu fangi með að halda á henni þegar hún lætur svona og pabbi hennar líka. Mér finnst að það hljóti eitthvað að vera að angra hana fyrst hún er svona pirruð og fúl og vælir svona, en það virðist ekkert finnast að barninu :(\n",
      "\n",
      "Ég er búin að prófa 2 kveisulyf á hana sem ég fékk hjá lækni, en er líka búin að prófa minifom og hitt sem ég man ekki hvað heitir, en er farin að hallast að því að eitthvað annað en kveisa sé að angra hana því kveisulyfin virka ekki neitt. Það er búið að skoða eyrun og mæla þrýsting en það fannst ekkert þar og frænka mín tók hana fyrir mig til hómópata og í bowen og það virkaði ekki heldur. Er búin að spá í mjólkuróþoli og er því búin að taka allar mjólkurvörur úr mínu fæði í rúmar 3 vikur núna og stelpan fær sojamjólkur ábót þegar þess þarf, en so far er það ekkert að sýna neinn árángur, en ég veit það getur svosem tekið lengri tíma að virka. Mér finnst bara að það hljóti eitthvað að vera að angra hana og ég vorkenni henni svo að vera alltaf svona pirruð og ég er líka sjálf að verða gráhærð á þessu ástandi. Dagarnir fara allir í það að hugga hana og reyna að finna eitthvað sem hún getur dundað sér við lengur en í 2-3 mín í einu. Hún sefur mjög illa á daginn, mestalagi í 30 mín í This instance will be ignored in loss calculation. Note, if this happens often, consider increasing the `max_seq_length`.\n",
      "  warnings.warn(\n",
      "/home/haukur/miniconda3/lib/python3.9/site-packages/trl/trainer/utils.py:154: UserWarning: Could not find response key `### Answer:` in the following instance: ### Question:\n",
      "Í hinum hraða heimi nútímans er nauðsynlegt að finna skilvirkar og skapandi lausnir á vinnutengdum áskorunum. Með framförum í tækni hefur gervigreind orðið ómetanlegt tæki fyrir fagfólk sem leitar að nýstárlegum aðferðum til að auka framleiðni. Eitt slíkt öflugt tól er ChatGPT, ókeypis tungumálalíkan á netinu þróað af OpenAI. Í þessari grein munum við kanna hvernig notendur geta nýtt sér ChatGPT til að búa til skapandi og árangursríkar aðferðir fyrir ýmsa þætti vinnuhttps://chatgptdemo.ai/\n",
      "\n",
      "Hugmyndaflug og hugmyndagerð:\n",
      "ChatGPT getur skipt sköpum þegar kemur að hugarflugslotum. Notendur geta lagt inn leiðbeiningar sem tengjast tilteknu verkefni eða áskorun og ChatGPT mun veita ofgnótt af hugmyndum og tillögum. Hvort sem þú ert að leita að nýstárlegum markaðsaðferðum, vörueiginleikum eða aðferðum til að leysa vandamál, getur ChatGPT aðstoðað við að búa til ferskar hugmyndir sem hafa kannski ekki verið skoðaðar áður.\n",
      "\n",
      "Efnissköpun og auglýsingatextahöfundur:\n",
      "Að búa til sannfærandi efni er mikilvægur þáttur í mörgum starfsgreinum. ChatGPT er hægt að nota til að semja greinar, bloggfærslur, markaðsafrit og fleira. Með því að veita stutt yfirlit yfir efnið eða lykilatriði geta notendur gefið ChatGPT fyrirmæli um að búa til samhangandi og grípandi efni. Þetta getur sparað tíma og þjónað sem dýrmætur upphafspunktur til að betrumbæta hugmyndir.\n",
      "\n",
      "Tungumálaþýðing og samskipti:\n",
      "Fyrir fyrirtæki sem starfa í hnattvæddum heimi eru skilvirk samskipti lykilatriði. ChatGPT getur aðstoðað við tungumálaþýðingu, hjálpað notendum að yfirstíga tungumálahindranir og auðvelda sléttari samskipti við alþjóðlega viðskiptavini og samstarfsaðila. Notendur geta sett inn setningar eða setningar á einu tungumáli og fengið nákvæmar þýðingar á öðru, sem hagræða þvermenningarlegum samskiptum.\n",
      "\n",
      "Aðstoð við ritun kóða og forritunaraðstoð:\n",
      "Hugbúnaðarhönnuðir og forritarar geta notið góðs af því að nota ChatGPT til að búa til kóðabúta eða leita aðstoðar við kóðunaráskoranir. Með því að lýsa æskilegri virkni eða veita upplýsingar um vandamálið sem fyrir hendi er geta notendur fengið kóðatillögur og villuleitarráð. Þetta getur verið sérstaklega gagnlegt fyrir einstaklinga sem læra að kóða eða þá sem eru að leita að öðrum aðferðum við kóðunaráskoranir.\n",
      " This instance will be ignored in loss calculation. Note, if this happens often, consider increasing the `max_seq_length`.\n",
      "  warnings.warn(\n",
      "/home/haukur/miniconda3/lib/python3.9/site-packages/trl/trainer/utils.py:169: UserWarning: Could not find instruction key `### Question:` in the following instance: ### Question:\n",
      "Í hinum hraða heimi nútímans er nauðsynlegt að finna skilvirkar og skapandi lausnir á vinnutengdum áskorunum. Með framförum í tækni hefur gervigreind orðið ómetanlegt tæki fyrir fagfólk sem leitar að nýstárlegum aðferðum til að auka framleiðni. Eitt slíkt öflugt tól er ChatGPT, ókeypis tungumálalíkan á netinu þróað af OpenAI. Í þessari grein munum við kanna hvernig notendur geta nýtt sér ChatGPT til að búa til skapandi og árangursríkar aðferðir fyrir ýmsa þætti vinnuhttps://chatgptdemo.ai/\n",
      "\n",
      "Hugmyndaflug og hugmyndagerð:\n",
      "ChatGPT getur skipt sköpum þegar kemur að hugarflugslotum. Notendur geta lagt inn leiðbeiningar sem tengjast tilteknu verkefni eða áskorun og ChatGPT mun veita ofgnótt af hugmyndum og tillögum. Hvort sem þú ert að leita að nýstárlegum markaðsaðferðum, vörueiginleikum eða aðferðum til að leysa vandamál, getur ChatGPT aðstoðað við að búa til ferskar hugmyndir sem hafa kannski ekki verið skoðaðar áður.\n",
      "\n",
      "Efnissköpun og auglýsingatextahöfundur:\n",
      "Að búa til sannfærandi efni er mikilvægur þáttur í mörgum starfsgreinum. ChatGPT er hægt að nota til að semja greinar, bloggfærslur, markaðsafrit og fleira. Með því að veita stutt yfirlit yfir efnið eða lykilatriði geta notendur gefið ChatGPT fyrirmæli um að búa til samhangandi og grípandi efni. Þetta getur sparað tíma og þjónað sem dýrmætur upphafspunktur til að betrumbæta hugmyndir.\n",
      "\n",
      "Tungumálaþýðing og samskipti:\n",
      "Fyrir fyrirtæki sem starfa í hnattvæddum heimi eru skilvirk samskipti lykilatriði. ChatGPT getur aðstoðað við tungumálaþýðingu, hjálpað notendum að yfirstíga tungumálahindranir og auðvelda sléttari samskipti við alþjóðlega viðskiptavini og samstarfsaðila. Notendur geta sett inn setningar eða setningar á einu tungumáli og fengið nákvæmar þýðingar á öðru, sem hagræða þvermenningarlegum samskiptum.\n",
      "\n",
      "Aðstoð við ritun kóða og forritunaraðstoð:\n",
      "Hugbúnaðarhönnuðir og forritarar geta notið góðs af því að nota ChatGPT til að búa til kóðabúta eða leita aðstoðar við kóðunaráskoranir. Með því að lýsa æskilegri virkni eða veita upplýsingar um vandamálið sem fyrir hendi er geta notendur fengið kóðatillögur og villuleitarráð. Þetta getur verið sérstaklega gagnlegt fyrir einstaklinga sem læra að kóða eða þá sem eru að leita að öðrum aðferðum við kóðunaráskoranir.\n",
      " This instance will be ignored in loss calculation. Note, if this happens often, consider increasing the `max_seq_length`.\n",
      "  warnings.warn(\n",
      "/home/haukur/miniconda3/lib/python3.9/site-packages/trl/trainer/utils.py:154: UserWarning: Could not find response key `### Answer:` in the following instance: ### Question:\n",
      "Ég rosalega léleg í ensku, getur einhver sagt mér hvað þetta er:\n",
      "\n",
      "We recently announced some proposed updates to our Data Use Policy, which explains how we collect and use data when people use Facebook, and our Statement of Rights and Responsibilities (SRR), which explains the terms governing use of our services.\n",
      "The updates provide you with more detailed information about our practices and reflect changes to our products, including:\n",
      "\n",
      "New tools for managing your Facebook Messages;\n",
      "Changes to how we refer to certain products;\n",
      "Tips on managing your timeline; and\n",
      "Reminders about what's visible to other people on Facebook.\n",
      "\n",
      "We are also proposing changes to our site governance process for future updates to our Data Use Policy and SRR. We deeply value the feedback we receive from you during our comment period but have found that the voting mechanism created a system that incentivized quantity of comments over the quality of them. So, we are proposing to end the voting component in order to promote a more meaningful environment for feedback. We also plan to roll out new engagement channels, including a feature for submitting questions about privacy to our Chief Privacy Officer of Policy.\n",
      "We encourage you to review these proposed changes and give us feedback before we finalize them. Ple This instance will be ignored in loss calculation. Note, if this happens often, consider increasing the `max_seq_length`.\n",
      "  warnings.warn(\n",
      "/home/haukur/miniconda3/lib/python3.9/site-packages/trl/trainer/utils.py:169: UserWarning: Could not find instruction key `### Question:` in the following instance: ### Question:\n",
      "Ég rosalega léleg í ensku, getur einhver sagt mér hvað þetta er:\n",
      "\n",
      "We recently announced some proposed updates to our Data Use Policy, which explains how we collect and use data when people use Facebook, and our Statement of Rights and Responsibilities (SRR), which explains the terms governing use of our services.\n",
      "The updates provide you with more detailed information about our practices and reflect changes to our products, including:\n",
      "\n",
      "New tools for managing your Facebook Messages;\n",
      "Changes to how we refer to certain products;\n",
      "Tips on managing your timeline; and\n",
      "Reminders about what's visible to other people on Facebook.\n",
      "\n",
      "We are also proposing changes to our site governance process for future updates to our Data Use Policy and SRR. We deeply value the feedback we receive from you during our comment period but have found that the voting mechanism created a system that incentivized quantity of comments over the quality of them. So, we are proposing to end the voting component in order to promote a more meaningful environment for feedback. We also plan to roll out new engagement channels, including a feature for submitting questions about privacy to our Chief Privacy Officer of Policy.\n",
      "We encourage you to review these proposed changes and give us feedback before we finalize them. Ple This instance will be ignored in loss calculation. Note, if this happens often, consider increasing the `max_seq_length`.\n",
      "  warnings.warn(\n",
      "/home/haukur/miniconda3/lib/python3.9/site-packages/trl/trainer/utils.py:154: UserWarning: Could not find response key `### Answer:` in the following instance: ### Question:\n",
      "Sæl Þetta er frekar mikil langloka og en vona eitthver nenni að lesa.  Málið með vexti er svo að fyrir 8 árum flutti ég til reykjavikur eftir ofbeldissamband og átti þá í raun bara tvær vinkonur sem höfðu fylgt mér frá leikskóla aldri (Hef aldrei fest við neina aðrar vegna sanslausra fluttninga í æsku) Þessar vinkonur mínar voru oft mjög uppteknar bæði vegna starfa og sambands. Ég kynntist hinsvegar stelpu í gegnum aðra þeirra og innan við áru vorum við saman nánast daglega.   Ég hægt og rólega missti bæði slatta af þyngd og náði að auka sjálfstraustið mitt. Ég fór endalaust niðri bæ með þessari stelpu og kynntist þannig tveimur strákum sem urðu fasta gestir í mínu lífi. En vandamálin byrjuðu hægt og rólega milli mín og hennar. Fyrst vorum við enn alltaf saman og hun stönglaðist endalaust á því að þó svo hún ætti margar vinkonur fannst hún henni ekki tengjast þeim eins og mér. Henni fynndist eins og við værum svo svipaðar og gætum reitt á hvort aðra bæði í skemmtun og alvarlegri hlutum, sem við gerðum.  En einn daginn játaði ég fyrir henni að ég væri hrifin af besta vin hennar og hún sagði mér að láta það vera vinahópsins vegna. Ég gerði það en það varð bara erfiðara og erfiðara þar sem hann var byrjaður að koma upp í vinnu til mín svo við gætum borðað saman hádegismat og bjóða mér með í hvert sinn sem hann fór niðrí bæ. Mér var síðan boðið í afmæli hjá einni af mínum bestu vinkonum í sumarbústað þar sem bæði hún og kærasti hennar urðu hissa að ég kæmi ein þau voru svo viss um að ég og vinurinn værum byrjuð saman. Í enda þessara helgar sendi ég skilaboð á hópinn hvort við ættum að kíkja í bjór en sá eini sem komst var hann. Við skelltum okkur í bjór eins og ekkert væri en síðan kom upp að okkur maður sem fannst við vera svo dámsamlega fallegt par að hann gaf okkur freyðivins flösku. Við urðum þvi heldur betur aðeins vínglaðari en við ætluðum okkur og endaði hann á að bjóða mér heim til sín í drykk þegar staðnum lokaði. Frá þeirri heimsókn höfum við verið saman en þó ekki án vandræða í byrjun.  Hún byrjaði strax að vera frekar köld, við héngum minna saman og hún varð oftar en ekki pirruð ef einhver reyndi við mig en ekki hana. Sagði nafnið mitt bjóða uppá frekari samræður og ljósa hàrið laða þá að.  Hér að neðan kemur eitthverskonar upptalning af hlutum sem hún hefur gert This instance will be ignored in loss calculation. Note, if this happens often, consider increasing the `max_seq_length`.\n",
      "  warnings.warn(\n",
      "/home/haukur/miniconda3/lib/python3.9/site-packages/trl/trainer/utils.py:169: UserWarning: Could not find instruction key `### Question:` in the following instance: ### Question:\n",
      "Sæl Þetta er frekar mikil langloka og en vona eitthver nenni að lesa.  Málið með vexti er svo að fyrir 8 árum flutti ég til reykjavikur eftir ofbeldissamband og átti þá í raun bara tvær vinkonur sem höfðu fylgt mér frá leikskóla aldri (Hef aldrei fest við neina aðrar vegna sanslausra fluttninga í æsku) Þessar vinkonur mínar voru oft mjög uppteknar bæði vegna starfa og sambands. Ég kynntist hinsvegar stelpu í gegnum aðra þeirra og innan við áru vorum við saman nánast daglega.   Ég hægt og rólega missti bæði slatta af þyngd og náði að auka sjálfstraustið mitt. Ég fór endalaust niðri bæ með þessari stelpu og kynntist þannig tveimur strákum sem urðu fasta gestir í mínu lífi. En vandamálin byrjuðu hægt og rólega milli mín og hennar. Fyrst vorum við enn alltaf saman og hun stönglaðist endalaust á því að þó svo hún ætti margar vinkonur fannst hún henni ekki tengjast þeim eins og mér. Henni fynndist eins og við værum svo svipaðar og gætum reitt á hvort aðra bæði í skemmtun og alvarlegri hlutum, sem við gerðum.  En einn daginn játaði ég fyrir henni að ég væri hrifin af besta vin hennar og hún sagði mér að láta það vera vinahópsins vegna. Ég gerði það en það varð bara erfiðara og erfiðara þar sem hann var byrjaður að koma upp í vinnu til mín svo við gætum borðað saman hádegismat og bjóða mér með í hvert sinn sem hann fór niðrí bæ. Mér var síðan boðið í afmæli hjá einni af mínum bestu vinkonum í sumarbústað þar sem bæði hún og kærasti hennar urðu hissa að ég kæmi ein þau voru svo viss um að ég og vinurinn værum byrjuð saman. Í enda þessara helgar sendi ég skilaboð á hópinn hvort við ættum að kíkja í bjór en sá eini sem komst var hann. Við skelltum okkur í bjór eins og ekkert væri en síðan kom upp að okkur maður sem fannst við vera svo dámsamlega fallegt par að hann gaf okkur freyðivins flösku. Við urðum þvi heldur betur aðeins vínglaðari en við ætluðum okkur og endaði hann á að bjóða mér heim til sín í drykk þegar staðnum lokaði. Frá þeirri heimsókn höfum við verið saman en þó ekki án vandræða í byrjun.  Hún byrjaði strax að vera frekar köld, við héngum minna saman og hún varð oftar en ekki pirruð ef einhver reyndi við mig en ekki hana. Sagði nafnið mitt bjóða uppá frekari samræður og ljósa hàrið laða þá að.  Hér að neðan kemur eitthverskonar upptalning af hlutum sem hún hefur gert This instance will be ignored in loss calculation. Note, if this happens often, consider increasing the `max_seq_length`.\n",
      "  warnings.warn(\n",
      "/home/haukur/miniconda3/lib/python3.9/site-packages/trl/trainer/utils.py:154: UserWarning: Could not find response key `### Answer:` in the following instance: ### Question:\n",
      "Even for those who are already practicing, pursuing a degree or certificate in nursing is a difficult task. Because of the complexity of the discipline, as well as the limited time required to write many nursing assignments, students frequently seek out online nursing writing services. These expert writers can help them with nursing research papers, term papers, dissertations, capstones and nursing essays. We have all been through medical and nursing training and our writers understand the requirements of nursing assignments. Therefore, we can write high-quality nursing papers that adhere to the appropriate paper formats and contain the right nursing content.\n",
      "At onlinenursingpapers.com, we guarantee well-written nursing papers, following the marking rubric and properly referenced to earn you top grades. All papers are written from scratch and are free of plagiarism. To ensure that you have your paper in time, we also deliver nursing papers by the deadline. Our online nursing paper writing service is trusted by 96% of our clients. Whenever you are late to write your nursing paper, or the paper is too complex for you, you have other work to do, or even if it is a party you have to attend, onlinenursingpapers.com will sort you out.\n",
      "Whenever, you have a c This instance will be ignored in loss calculation. Note, if this happens often, consider increasing the `max_seq_length`.\n",
      "  warnings.warn(\n",
      "/home/haukur/miniconda3/lib/python3.9/site-packages/trl/trainer/utils.py:169: UserWarning: Could not find instruction key `### Question:` in the following instance: ### Question:\n",
      "Even for those who are already practicing, pursuing a degree or certificate in nursing is a difficult task. Because of the complexity of the discipline, as well as the limited time required to write many nursing assignments, students frequently seek out online nursing writing services. These expert writers can help them with nursing research papers, term papers, dissertations, capstones and nursing essays. We have all been through medical and nursing training and our writers understand the requirements of nursing assignments. Therefore, we can write high-quality nursing papers that adhere to the appropriate paper formats and contain the right nursing content.\n",
      "At onlinenursingpapers.com, we guarantee well-written nursing papers, following the marking rubric and properly referenced to earn you top grades. All papers are written from scratch and are free of plagiarism. To ensure that you have your paper in time, we also deliver nursing papers by the deadline. Our online nursing paper writing service is trusted by 96% of our clients. Whenever you are late to write your nursing paper, or the paper is too complex for you, you have other work to do, or even if it is a party you have to attend, onlinenursingpapers.com will sort you out.\n",
      "Whenever, you have a c This instance will be ignored in loss calculation. Note, if this happens often, consider increasing the `max_seq_length`.\n",
      "  warnings.warn(\n"
     ]
    }
   ],
   "source": [
    "from transformers import AutoModelForCausalLM, AutoTokenizer\n",
    "from datasets import load_from_disk\n",
    "from trl import SFTTrainer, DataCollatorForCompletionOnlyLM\n",
    "from transformers import TrainingArguments\n",
    "\n",
    "dataset = load_from_disk(\"./cleaned_data\")\n",
    "\n",
    "model = AutoModelForCausalLM.from_pretrained(\"Sigurdur/icebreaker\")\n",
    "tokenizer = AutoTokenizer.from_pretrained(\"Sigurdur/icebreaker\")\n",
    "tokenizer.pad_token = tokenizer.eos_token\n",
    "\n",
    "instruction_template = \"### Question:\"\n",
    "response_template = \"### Answer:\"\n",
    "collator = DataCollatorForCompletionOnlyLM(\n",
    "    instruction_template=instruction_template,\n",
    "    response_template=response_template,\n",
    "    tokenizer=tokenizer,\n",
    "    mlm=False,\n",
    ")\n",
    "\n",
    "training_args = TrainingArguments(\n",
    "    \"test-icebreaker\",\n",
    "    evaluation_strategy=\"steps\",\n",
    "    per_device_train_batch_size=1,\n",
    "    gradient_accumulation_steps=4,\n",
    "    learning_rate=2.5e-4,\n",
    "    fp16=True,\n",
    "    num_train_epochs=1,\n",
    "    report_to=\"none\",\n",
    "    push_to_hub=False,\n",
    ")\n",
    "\n",
    "trainer = SFTTrainer(\n",
    "    model,\n",
    "    train_dataset=dataset,\n",
    "    dataset_text_field=\"text\",\n",
    "    data_collator=collator,\n",
    "    max_seq_length=512,\n",
    "    args=training_args,\n",
    ")\n",
    "\n",
    "trainer.train()\n",
    "trainer.save_model(\"test-icebreaker\")"
   ]
  },
  {
   "cell_type": "code",
   "execution_count": 3,
   "metadata": {},
   "outputs": [],
   "source": [
    "import wandb\n",
    "\n",
    "wandb.finish()"
   ]
  },
  {
   "cell_type": "code",
   "execution_count": 4,
   "metadata": {},
   "outputs": [],
   "source": [
    "from transformers import AutoModelForCausalLM, AutoTokenizer\n",
    "\n",
    "model = AutoModelForCausalLM.from_pretrained(\"test-icebreaker\")\n",
    "tokenizer = AutoTokenizer.from_pretrained(\"test-icebreaker\")"
   ]
  },
  {
   "cell_type": "code",
   "execution_count": 5,
   "metadata": {},
   "outputs": [
    {
     "name": "stderr",
     "output_type": "stream",
     "text": [
      "Setting `pad_token_id` to `eos_token_id`:0 for open-end generation.\n"
     ]
    },
    {
     "name": "stdout",
     "output_type": "stream",
     "text": [
      "### Question: Hvað er besta leiðin til að læra forritun?\n",
      "Itcade.\n",
      "Ég held að það sé ekki of hátt úr...... ég held að það er ekki bara hægt bara hægt. Við höfum séð fyrir okkar fyrirtæki með að það sé erfitt að spá um hvort menn séu að tala um þetta en það fer að grenna inn.Þetta eru auðvitað mikið af hósta en líka þetta, það er nú enginn fyrir okkur. En maður getur alveg tekið þessu\n"
     ]
    }
   ],
   "source": [
    "# test conversation generation\n",
    "from transformers import TextGenerationPipeline\n",
    "\n",
    "pipeline = TextGenerationPipeline(model=model, tokenizer=tokenizer)\n",
    "\n",
    "conversation = pipeline(\n",
    "    \"### Question: Hvað er besta leiðin til að læra forritun?\",\n",
    "    max_length=100,\n",
    "    num_return_sequences=1,\n",
    ")\n",
    "\n",
    "print(conversation[0][\"generated_text\"])"
   ]
  }
 ],
 "metadata": {
  "kernelspec": {
   "display_name": "base",
   "language": "python",
   "name": "python3"
  },
  "language_info": {
   "codemirror_mode": {
    "name": "ipython",
    "version": 3
   },
   "file_extension": ".py",
   "mimetype": "text/x-python",
   "name": "python",
   "nbconvert_exporter": "python",
   "pygments_lexer": "ipython3",
   "version": "3.9.12"
  }
 },
 "nbformat": 4,
 "nbformat_minor": 2
}
