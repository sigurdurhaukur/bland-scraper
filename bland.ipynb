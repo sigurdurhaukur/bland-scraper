{
 "cells": [
  {
   "cell_type": "code",
   "execution_count": 5,
   "metadata": {},
   "outputs": [
    {
     "name": "stdout",
     "output_type": "stream",
     "text": [
      "Scraping page 1\n",
      "Scraping page 2\n",
      "Scraping page 3\n",
      "Scraping page 4\n",
      "Scraping page 5\n",
      "Scraping page 6\n",
      "Scraping page 7\n",
      "Scraping page 8\n",
      "Scraping page 9\n",
      "450 threads found\n"
     ]
    },
    {
     "data": {
      "text/plain": [
       "['https://bland.is/umraeda/veit-einhver-/31483850/?page=1',\n",
       " 'https://bland.is/umraeda/barnabaekur/31483908/?page=1',\n",
       " 'https://bland.is/umraeda/leit-af-vinnu-o-/2931707/?page=1',\n",
       " 'https://bland.is/umraeda/leigubilafyrirtaeki/30548300/?page=1',\n",
       " 'https://bland.is/umraeda/nytt-fjorflokka-mynstur/31483894/?page=1']"
      ]
     },
     "execution_count": 5,
     "metadata": {},
     "output_type": "execute_result"
    }
   ],
   "source": [
    "import requests\n",
    "from bs4 import BeautifulSoup\n",
    "import re\n",
    "\n",
    "homepage = \"https://bland.is/messageboard/messageboard.aspx?&page=\"\n",
    "domain = \"https://bland.is\"\n",
    "\n",
    "thread_links = []\n",
    "\n",
    "for page in range(1, 10):\n",
    "    print(\"Scraping page\", page)\n",
    "    response = requests.get(homepage + str(page))\n",
    "    soup = BeautifulSoup(response.text, \"html.parser\")\n",
    "\n",
    "    # print(soup.prettify())\n",
    "    # Find all links to threads\n",
    "    # list_of_threads = soup.find(id=\"messageboardList\")\n",
    "    # print(thread_links)\n",
    "    # break\n",
    "    links = soup.find_all(\"a\", href=re.compile(\"/umraeda/\"))\n",
    "    links = [domain + link[\"href\"] for link in links]\n",
    "\n",
    "    thread_links.extend(links)\n",
    "\n",
    "print(len(thread_links), \"threads found\")\n",
    "thread_links[:5]"
   ]
  },
  {
   "cell_type": "code",
   "execution_count": 6,
   "metadata": {},
   "outputs": [],
   "source": [
    "from bs4 import BeautifulSoup, NavigableString, Tag\n",
    "import json\n",
    "\n",
    "class Thread:\n",
    "    def __init__(self, url):\n",
    "        self.url = url\n",
    "        self.data = self.get_thread_data(url)\n",
    "\n",
    "    def __repr__(self):\n",
    "        return json.dumps(self.data, ensure_ascii=False)\n",
    "\n",
    "    def clean_text(self, html=\"\"):\n",
    "        soup = BeautifulSoup(html, 'html.parser')\n",
    "        text = ''\n",
    "        for child in soup.find_all('p')[0]:\n",
    "            if isinstance(child, NavigableString):\n",
    "                text += str(child).strip()\n",
    "            elif isinstance(child, Tag):\n",
    "                if child.name != 'br':\n",
    "                    text += child.text.strip()\n",
    "                else:\n",
    "                    text += '\\n'\n",
    "\n",
    "        # result = text.strip().split('\\n')\n",
    "        result = text.strip()\n",
    "        return result\n",
    "\n",
    "    def get_thread_data(self, url):\n",
    "        response = requests.get(url)\n",
    "        soup = BeautifulSoup(response.text, \"html.parser\")\n",
    "        title = soup.find(\"h1\").text\n",
    "        question = self.clean_text(str(soup.find(\"div\", class_=\"firstRecord\")))\n",
    "        responses = soup.find_all(\"div\", class_=\"mbAnswer\")\n",
    "        # exlude the first response, which is the same as the question\n",
    "        responses = [self.clean_text(str(response)) for response in responses[1:]]\n",
    "        return {\"title\": title.strip(), \"question\": question, \"responses\": responses, \"url\": url}"
   ]
  },
  {
   "cell_type": "code",
   "execution_count": 7,
   "metadata": {},
   "outputs": [
    {
     "data": {
      "application/vnd.jupyter.widget-view+json": {
       "model_id": "52ae452c6fba40d59c682975eebb83d0",
       "version_major": 2,
       "version_minor": 0
      },
      "text/plain": [
       "  0%|          | 0/450 [00:00<?, ?it/s]"
      ]
     },
     "metadata": {},
     "output_type": "display_data"
    },
    {
     "name": "stdout",
     "output_type": "stream",
     "text": [
      "'NoneType' object has no attribute 'text'\n",
      "could not scrape: https://bland.is/umraeda/oska-eftir-stundirnar-med-gunna-og-felix-a-dvd/31483898/?page=1\n",
      "'NoneType' object has no attribute 'text'\n",
      "could not scrape: https://bland.is/umraeda/kratom/31477623/?page=7\n",
      "list index out of range\n",
      "could not scrape: https://bland.is/umraeda/baeklunarlaeknar/23980647/?page=8\n",
      "'NoneType' object has no attribute 'text'\n",
      "could not scrape: https://bland.is/umraeda/dadur/31481821/?page=9\n",
      "'NoneType' object has no attribute 'text'\n",
      "could not scrape: https://bland.is/umraeda/kaupa-fasteign-af-foreldrum/31481792/?page=9\n"
     ]
    }
   ],
   "source": [
    "import tqdm.auto as tqdm\n",
    "import pandas as pd\n",
    "import json\n",
    "\n",
    "with open(\"bland/data.json\", \"w\") as f:\n",
    "    f.write(\"[\")\n",
    "\n",
    "    for url in tqdm.tqdm(thread_links):\n",
    "        try:\n",
    "            data = Thread(url).data\n",
    "            if url != thread_links[0]: f.write(\",\")\n",
    "            f.write(json.dumps(data, ensure_ascii=False))\n",
    "\n",
    "        except Exception as e:\n",
    "            print(e)\n",
    "            print(\"could not scrape:\", url)\n",
    "        \n",
    "    f.write(\"]\")\n"
   ]
  },
  {
   "cell_type": "code",
   "execution_count": 8,
   "metadata": {},
   "outputs": [],
   "source": [
    "import json\n",
    "import pandas as pd\n",
    "\n",
    "with open(\"bland/data.json\", \"r\") as f:\n",
    "    data = json.load(f)\n",
    "\n",
    "df = pd.DataFrame(data)\n",
    "df.drop(columns=[\"url\", \"title\"], inplace=True)\n",
    "df = df[df.responses.apply(len) > 0]\n",
    "\n",
    "df.head()\n",
    "\n",
    "with open(\"bland/cleaned_data.txt\", \"w\") as f:\n",
    "    for i, row in df.iterrows():\n",
    "        f.write(\"###QUESTION:\" + \"\\n\" + row.question + \"\\n\\n\")\n",
    "        f.write(\"###RESPONSE:\" + \"\\n\" + row.responses[0] + \"\\n\\n\")"
   ]
  }
 ],
 "metadata": {
  "kernelspec": {
   "display_name": "Python 3",
   "language": "python",
   "name": "python3"
  },
  "language_info": {
   "codemirror_mode": {
    "name": "ipython",
    "version": 3
   },
   "file_extension": ".py",
   "mimetype": "text/x-python",
   "name": "python",
   "nbconvert_exporter": "python",
   "pygments_lexer": "ipython3",
   "version": "3.9.1"
  }
 },
 "nbformat": 4,
 "nbformat_minor": 2
}
